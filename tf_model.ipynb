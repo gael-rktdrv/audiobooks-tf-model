{
 "cells": [
  {
   "cell_type": "markdown",
   "id": "prescribed-legislation",
   "metadata": {},
   "source": [
    "# **Model for audiobook**"
   ]
  },
  {
   "cell_type": "markdown",
   "id": "structured-uncle",
   "metadata": {},
   "source": [
    "**Create the machine learning algorithm**"
   ]
  },
  {
   "cell_type": "code",
   "execution_count": 1,
   "id": "qualified-celebrity",
   "metadata": {},
   "outputs": [],
   "source": [
    "import numpy as np\n",
    "import tensorflow as tf"
   ]
  },
  {
   "cell_type": "markdown",
   "id": "portuguese-weapon",
   "metadata": {},
   "source": [
    "**Load data**"
   ]
  },
  {
   "cell_type": "code",
   "execution_count": 3,
   "id": "loving-settlement",
   "metadata": {},
   "outputs": [],
   "source": [
    "npz = np.load('audiobook_train.npz')\n",
    "\n",
    "X_train = npz['inputs'].astype(np.float)\n",
    "y_train = npz['targets'].astype(np.int)\n",
    "\n",
    "npz = np.load('audiobook_val.npz')\n",
    "\n",
    "X_val = npz['inputs'].astype(np.float)\n",
    "y_val = npz['targets'].astype(np.int)\n",
    "\n",
    "npz = np.load('audiobook_test.npz')\n",
    "\n",
    "X_test = npz['inputs'].astype(np.float)\n",
    "y_test = npz['targets'].astype(np.int)"
   ]
  },
  {
   "cell_type": "markdown",
   "id": "moral-setup",
   "metadata": {},
   "source": [
    "**Model**"
   ]
  },
  {
   "cell_type": "code",
   "execution_count": 9,
   "id": "international-guyana",
   "metadata": {},
   "outputs": [
    {
     "name": "stdout",
     "output_type": "stream",
     "text": [
      "Epoch 1/100\n",
      "32/32 - 0s - loss: 0.5579 - accuracy: 0.7518 - val_loss: 0.4381 - val_accuracy: 0.8725\n",
      "Epoch 2/100\n",
      "32/32 - 0s - loss: 0.3738 - accuracy: 0.8754 - val_loss: 0.3409 - val_accuracy: 0.8826\n",
      "Epoch 3/100\n",
      "32/32 - 0s - loss: 0.3143 - accuracy: 0.8837 - val_loss: 0.3062 - val_accuracy: 0.8960\n",
      "Epoch 4/100\n",
      "32/32 - 0s - loss: 0.2925 - accuracy: 0.8885 - val_loss: 0.2973 - val_accuracy: 0.8870\n",
      "Epoch 5/100\n",
      "32/32 - 0s - loss: 0.2791 - accuracy: 0.8933 - val_loss: 0.2809 - val_accuracy: 0.9027\n",
      "Epoch 6/100\n",
      "32/32 - 0s - loss: 0.2681 - accuracy: 0.8984 - val_loss: 0.2786 - val_accuracy: 0.9049\n",
      "Epoch 7/100\n",
      "32/32 - 0s - loss: 0.2614 - accuracy: 0.8991 - val_loss: 0.2709 - val_accuracy: 0.9060\n",
      "Epoch 8/100\n",
      "32/32 - 0s - loss: 0.2546 - accuracy: 0.9013 - val_loss: 0.2708 - val_accuracy: 0.9083\n",
      "Epoch 9/100\n",
      "32/32 - 0s - loss: 0.2506 - accuracy: 0.9019 - val_loss: 0.2617 - val_accuracy: 0.9116\n",
      "Epoch 10/100\n",
      "32/32 - 0s - loss: 0.2470 - accuracy: 0.9045 - val_loss: 0.2630 - val_accuracy: 0.9139\n",
      "Epoch 11/100\n",
      "32/32 - 0s - loss: 0.2451 - accuracy: 0.9051 - val_loss: 0.2647 - val_accuracy: 0.9105\n"
     ]
    },
    {
     "data": {
      "text/plain": [
       "<tensorflow.python.keras.callbacks.History at 0x7f49c8507d90>"
      ]
     },
     "execution_count": 9,
     "metadata": {},
     "output_type": "execute_result"
    }
   ],
   "source": [
    "input_size = 10\n",
    "output_size = 2\n",
    "hidden_layer_size = 50\n",
    "\n",
    "model = tf.keras.Sequential([\n",
    "    tf.keras.layers.Dense(hidden_layer_size, activation='relu'),\n",
    "    tf.keras.layers.Dense(hidden_layer_size, activation='relu'),\n",
    "    tf.keras.layers.Dense(output_size, activation='softmax')    \n",
    "])\n",
    "\n",
    "# Optimizer and loss function\n",
    "model.compile(optimizer='adam',\n",
    "              loss='sparse_categorical_crossentropy',\n",
    "              metrics=['accuracy'])\n",
    "\n",
    "BATCH_SIZE = 100\n",
    "NUM_EPOCHS = 100\n",
    "early_stopping = tf.keras.callbacks.EarlyStopping(patience=2) # Prevents overfitting\n",
    "\n",
    "model.fit(X_train, y_train,\n",
    "          batch_size=BATCH_SIZE,\n",
    "          epochs=NUM_EPOCHS,\n",
    "          callbacks=early_stopping,\n",
    "          validation_data=(X_val, y_val),\n",
    "          verbose=2)"
   ]
  },
  {
   "cell_type": "markdown",
   "id": "circular-sodium",
   "metadata": {},
   "source": [
    "**Test**"
   ]
  },
  {
   "cell_type": "code",
   "execution_count": 11,
   "id": "stretch-accident",
   "metadata": {},
   "outputs": [
    {
     "name": "stdout",
     "output_type": "stream",
     "text": [
      "15/15 [==============================] - 0s 579us/step - loss: 0.2859 - accuracy: 0.8842\n",
      "Test loss: 28.6%\n",
      "Test accuracy: 88.4%\n"
     ]
    }
   ],
   "source": [
    "test_loss, test_accuracy = model.evaluate(X_test, y_test)\n",
    "print(f'Test loss: {test_loss:.1%}')\n",
    "print(f'Test accuracy: {test_accuracy:.1%}')"
   ]
  },
  {
   "cell_type": "code",
   "execution_count": null,
   "id": "durable-rainbow",
   "metadata": {},
   "outputs": [],
   "source": []
  }
 ],
 "metadata": {
  "kernelspec": {
   "display_name": "Python 3",
   "language": "python",
   "name": "python3"
  },
  "language_info": {
   "codemirror_mode": {
    "name": "ipython",
    "version": 3
   },
   "file_extension": ".py",
   "mimetype": "text/x-python",
   "name": "python",
   "nbconvert_exporter": "python",
   "pygments_lexer": "ipython3",
   "version": "3.8.8"
  }
 },
 "nbformat": 4,
 "nbformat_minor": 5
}
